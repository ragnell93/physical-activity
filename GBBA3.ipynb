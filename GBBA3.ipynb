{
 "cells": [
  {
   "cell_type": "code",
   "execution_count": 1,
   "metadata": {},
   "outputs": [],
   "source": [
    "import pandas as pd\n",
    "import numpy as np \n",
    "import matplotlib.pyplot as plt \n",
    "from sklearn.tree import DecisionTreeClassifier\n",
    "from sklearn.naive_bayes import GaussianNB\n",
    "from sklearn.neural_network import MLPClassifier\n",
    "from sklearn.svm import SVC\n",
    "from sklearn.model_selection import GridSearchCV\n",
    "import sklearn.metrics as mt\n",
    "from sklearn.model_selection import StratifiedShuffleSplit\n",
    "import sklearn.preprocessing as pre"
   ]
  },
  {
   "cell_type": "code",
   "execution_count": 2,
   "metadata": {},
   "outputs": [],
   "source": [
    "table = pd.read_csv('database.csv',na_values=['NA','NaN','.','?',' ','#VALUE!']).dropna(subset=['Act Fis']).fillna(0)\n",
    "X = pre.scale(table.drop(columns=['Act Fis','Muestra','FICHA','ESC','Procedencia']).to_numpy().astype(float))\n",
    "y = table['Act Fis'].to_numpy()\n",
    "\n",
    "le = pre.LabelEncoder()\n",
    "le.fit(y)\n",
    "y = le.transform(y)"
   ]
  },
  {
   "cell_type": "code",
   "execution_count": 3,
   "metadata": {},
   "outputs": [],
   "source": [
    "sss = StratifiedShuffleSplit(n_splits=1, test_size=0.2)\n",
    "for train_index, test_index in sss.split(X,y):\n",
    "    X_train, X_test = X[train_index], X[test_index]\n",
    "    y_train, y_test = y[train_index], y[test_index]"
   ]
  },
  {
   "cell_type": "code",
   "execution_count": 4,
   "metadata": {},
   "outputs": [
    {
     "data": {
      "text/plain": [
       "GridSearchCV(cv=None, error_score=nan,\n",
       "             estimator=MLPClassifier(activation='relu', alpha=0.0001,\n",
       "                                     batch_size='auto', beta_1=0.9,\n",
       "                                     beta_2=0.999, early_stopping=False,\n",
       "                                     epsilon=1e-08, hidden_layer_sizes=(100,),\n",
       "                                     learning_rate='constant',\n",
       "                                     learning_rate_init=0.001, max_fun=15000,\n",
       "                                     max_iter=200, momentum=0.9,\n",
       "                                     n_iter_no_change=10,\n",
       "                                     nesterovs_momentum=True, power_t=0.5,\n",
       "                                     random_state=None, shuffle=True,\n",
       "                                     solver='adam', tol=0.0001,\n",
       "                                     validation_fraction=0.1, verbose=False,\n",
       "                                     warm_start=False),\n",
       "             iid='deprecated', n_jobs=None,\n",
       "             param_grid={'alpha': [0.0001],\n",
       "                         'hidden_layer_sizes': [(200, 100, 50)],\n",
       "                         'max_iter': [10000]},\n",
       "             pre_dispatch='2*n_jobs', refit=True, return_train_score=False,\n",
       "             scoring=None, verbose=0)"
      ]
     },
     "execution_count": 4,
     "metadata": {},
     "output_type": "execute_result"
    }
   ],
   "source": [
    "param_nn = {'alpha': [0.0001], 'hidden_layer_sizes': [(200,100,50,)], 'max_iter':[10000]}\n",
    "nn = MLPClassifier()\n",
    "cv_nn = GridSearchCV(nn,param_nn)\n",
    "cv_nn.fit(X_train,y_train)"
   ]
  },
  {
   "cell_type": "code",
   "execution_count": 7,
   "metadata": {},
   "outputs": [
    {
     "name": "stdout",
     "output_type": "stream",
     "text": [
      "1.0\n",
      "1.0\n"
     ]
    }
   ],
   "source": [
    "predicted_nn = cv_nn.predict(X_test)\n",
    "accuracy_nn = mt.accuracy_score(y_test,predicted_nn)\n",
    "print(accuracy_nn)\n",
    "precision = mt.precision_score(y_test,predicted_nn)\n",
    "print(precision)"
   ]
  },
  {
   "cell_type": "code",
   "execution_count": 6,
   "metadata": {},
   "outputs": [
    {
     "data": {
      "text/plain": [
       "array([[-1.01052952, -0.04148806, -0.04989447, ...,  1.49914505,\n",
       "         1.09851915,  1.71711716],\n",
       "       [-1.01052952, -0.02674   , -0.04989447, ...,  1.49914505,\n",
       "         0.8844739 ,  1.82374043],\n",
       "       [-1.01052952,  0.26822116,  0.24348823, ...,  1.41165755,\n",
       "         1.66930649,  1.46959883],\n",
       "       ...,\n",
       "       [ 0.98958019,  1.10886048,  1.12363631, ..., -0.62555151,\n",
       "        -0.59798767, -0.62859493],\n",
       "       [ 0.98958019,  1.25634107,  1.27032766, ..., -0.62555151,\n",
       "        -0.59798767, -0.62859493],\n",
       "       [ 0.98958019,  1.69878281,  1.7104017 , ..., -0.62555151,\n",
       "        -0.59798767, -0.62859493]])"
      ]
     },
     "execution_count": 6,
     "metadata": {},
     "output_type": "execute_result"
    }
   ],
   "source": []
  },
  {
   "cell_type": "code",
   "execution_count": 13,
   "metadata": {},
   "outputs": [
    {
     "name": "stdout",
     "output_type": "stream",
     "text": [
      "450\n",
      "276\n"
     ]
    }
   ],
   "source": [
    "pos = 0\n",
    "neg = 0\n",
    "for i in range(y_test.shape[0]):\n",
    "    if y_test[i] == 1:\n",
    "        pos += 1\n",
    "    elif y_test[i] == 0:\n",
    "        neg += 1\n",
    "        \n",
    "print(pos)\n",
    "print(neg)"
   ]
  },
  {
   "cell_type": "code",
   "execution_count": null,
   "metadata": {},
   "outputs": [],
   "source": []
  }
 ],
 "metadata": {
  "kernelspec": {
   "display_name": "Python 3",
   "language": "python",
   "name": "python3"
  },
  "language_info": {
   "codemirror_mode": {
    "name": "ipython",
    "version": 3
   },
   "file_extension": ".py",
   "mimetype": "text/x-python",
   "name": "python",
   "nbconvert_exporter": "python",
   "pygments_lexer": "ipython3",
   "version": "3.8.1"
  }
 },
 "nbformat": 4,
 "nbformat_minor": 4
}
